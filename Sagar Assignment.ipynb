{
 "cells": [
  {
   "cell_type": "markdown",
   "id": "f484e818-9fb1-487d-833d-577ef5a9838f",
   "metadata": {},
   "source": [
    "### Import dependencies"
   ]
  },
  {
   "cell_type": "code",
   "execution_count": 1,
   "id": "9a96d091",
   "metadata": {},
   "outputs": [],
   "source": [
    "import numpy as np\n",
    "import pandas as pd\n",
    "import matplotlib.pyplot as plt\n",
    "import seaborn as sns\n",
    "from sklearn.impute import KNNImputer\n",
    "from sklearn.model_selection import train_test_split\n",
    "from sklearn.preprocessing import StandardScaler\n",
    "from sklearn.preprocessing import LabelEncoder\n",
    "from sklearn.neighbors import KNeighborsClassifier\n",
    "from sklearn.linear_model import LogisticRegression\n",
    "from sklearn.tree import DecisionTreeClassifier\n",
    "from sklearn.ensemble import RandomForestClassifier\n",
    "from sklearn.metrics import classification_report\n",
    "\n",
    "from sklearn.metrics import confusion_matrix\n",
    "from sklearn.metrics import accuracy_score                           \n",
    "import warnings\n",
    "warnings.filterwarnings('ignore')"
   ]
  },
  {
   "cell_type": "code",
   "execution_count": 2,
   "id": "300b6f34",
   "metadata": {},
   "outputs": [
    {
     "data": {
      "text/html": [
       "<div>\n",
       "<style scoped>\n",
       "    .dataframe tbody tr th:only-of-type {\n",
       "        vertical-align: middle;\n",
       "    }\n",
       "\n",
       "    .dataframe tbody tr th {\n",
       "        vertical-align: top;\n",
       "    }\n",
       "\n",
       "    .dataframe thead th {\n",
       "        text-align: right;\n",
       "    }\n",
       "</style>\n",
       "<table border=\"1\" class=\"dataframe\">\n",
       "  <thead>\n",
       "    <tr style=\"text-align: right;\">\n",
       "      <th></th>\n",
       "      <th>id</th>\n",
       "      <th>gender</th>\n",
       "      <th>age</th>\n",
       "      <th>hypertension</th>\n",
       "      <th>heart_disease</th>\n",
       "      <th>ever_married</th>\n",
       "      <th>work_type</th>\n",
       "      <th>Residence_type</th>\n",
       "      <th>avg_glucose_level</th>\n",
       "      <th>bmi</th>\n",
       "      <th>smoking_status</th>\n",
       "      <th>stroke</th>\n",
       "    </tr>\n",
       "  </thead>\n",
       "  <tbody>\n",
       "    <tr>\n",
       "      <th>0</th>\n",
       "      <td>30669</td>\n",
       "      <td>Male</td>\n",
       "      <td>3.0</td>\n",
       "      <td>0</td>\n",
       "      <td>0</td>\n",
       "      <td>No</td>\n",
       "      <td>children</td>\n",
       "      <td>Rural</td>\n",
       "      <td>95.12</td>\n",
       "      <td>18.0</td>\n",
       "      <td>NaN</td>\n",
       "      <td>0</td>\n",
       "    </tr>\n",
       "    <tr>\n",
       "      <th>1</th>\n",
       "      <td>30468</td>\n",
       "      <td>Male</td>\n",
       "      <td>58.0</td>\n",
       "      <td>1</td>\n",
       "      <td>0</td>\n",
       "      <td>Yes</td>\n",
       "      <td>Private</td>\n",
       "      <td>Urban</td>\n",
       "      <td>87.96</td>\n",
       "      <td>39.2</td>\n",
       "      <td>never smoked</td>\n",
       "      <td>0</td>\n",
       "    </tr>\n",
       "    <tr>\n",
       "      <th>2</th>\n",
       "      <td>16523</td>\n",
       "      <td>Female</td>\n",
       "      <td>8.0</td>\n",
       "      <td>0</td>\n",
       "      <td>0</td>\n",
       "      <td>No</td>\n",
       "      <td>Private</td>\n",
       "      <td>Urban</td>\n",
       "      <td>110.89</td>\n",
       "      <td>17.6</td>\n",
       "      <td>NaN</td>\n",
       "      <td>0</td>\n",
       "    </tr>\n",
       "    <tr>\n",
       "      <th>3</th>\n",
       "      <td>56543</td>\n",
       "      <td>Female</td>\n",
       "      <td>70.0</td>\n",
       "      <td>0</td>\n",
       "      <td>0</td>\n",
       "      <td>Yes</td>\n",
       "      <td>Private</td>\n",
       "      <td>Rural</td>\n",
       "      <td>69.04</td>\n",
       "      <td>35.9</td>\n",
       "      <td>formerly smoked</td>\n",
       "      <td>0</td>\n",
       "    </tr>\n",
       "    <tr>\n",
       "      <th>4</th>\n",
       "      <td>46136</td>\n",
       "      <td>Male</td>\n",
       "      <td>14.0</td>\n",
       "      <td>0</td>\n",
       "      <td>0</td>\n",
       "      <td>No</td>\n",
       "      <td>Never_worked</td>\n",
       "      <td>Rural</td>\n",
       "      <td>161.28</td>\n",
       "      <td>19.1</td>\n",
       "      <td>NaN</td>\n",
       "      <td>0</td>\n",
       "    </tr>\n",
       "  </tbody>\n",
       "</table>\n",
       "</div>"
      ],
      "text/plain": [
       "      id  gender   age  hypertension  heart_disease ever_married  \\\n",
       "0  30669    Male   3.0             0              0           No   \n",
       "1  30468    Male  58.0             1              0          Yes   \n",
       "2  16523  Female   8.0             0              0           No   \n",
       "3  56543  Female  70.0             0              0          Yes   \n",
       "4  46136    Male  14.0             0              0           No   \n",
       "\n",
       "      work_type Residence_type  avg_glucose_level   bmi   smoking_status  \\\n",
       "0      children          Rural              95.12  18.0              NaN   \n",
       "1       Private          Urban              87.96  39.2     never smoked   \n",
       "2       Private          Urban             110.89  17.6              NaN   \n",
       "3       Private          Rural              69.04  35.9  formerly smoked   \n",
       "4  Never_worked          Rural             161.28  19.1              NaN   \n",
       "\n",
       "   stroke  \n",
       "0       0  \n",
       "1       0  \n",
       "2       0  \n",
       "3       0  \n",
       "4       0  "
      ]
     },
     "execution_count": 2,
     "metadata": {},
     "output_type": "execute_result"
    }
   ],
   "source": [
    "#load the dataset\n",
    "df = pd.read_csv(\"dataset (1).csv\")\n",
    "df.head()"
   ]
  },
  {
   "cell_type": "markdown",
   "id": "4d4328e2-0e93-450a-a6bf-7acdfc799cb5",
   "metadata": {},
   "source": [
    "## Perfoming Exploratory Data Analysis"
   ]
  },
  {
   "cell_type": "code",
   "execution_count": 3,
   "id": "f83e1779",
   "metadata": {},
   "outputs": [
    {
     "data": {
      "text/plain": [
       "(43400, 12)"
      ]
     },
     "execution_count": 3,
     "metadata": {},
     "output_type": "execute_result"
    }
   ],
   "source": [
    "df.shape"
   ]
  },
  {
   "cell_type": "markdown",
   "id": "c1cb4ea4-0c32-4911-be06-e52557da8693",
   "metadata": {},
   "source": [
    "**We can see that we have 43400 observations and 12 features in our dataset**"
   ]
  },
  {
   "cell_type": "code",
   "execution_count": 4,
   "id": "c3856f4f",
   "metadata": {},
   "outputs": [
    {
     "data": {
      "text/plain": [
       "Index(['id', 'gender', 'age', 'hypertension', 'heart_disease', 'ever_married',\n",
       "       'work_type', 'Residence_type', 'avg_glucose_level', 'bmi',\n",
       "       'smoking_status', 'stroke'],\n",
       "      dtype='object')"
      ]
     },
     "execution_count": 4,
     "metadata": {},
     "output_type": "execute_result"
    }
   ],
   "source": [
    "#check the column we have\n",
    "df.columns"
   ]
  },
  {
   "cell_type": "markdown",
   "id": "0524dab3-3837-4056-9f26-cf2fce29a289",
   "metadata": {},
   "source": [
    "Check for null values"
   ]
  },
  {
   "cell_type": "code",
   "execution_count": 5,
   "id": "b29676d1",
   "metadata": {},
   "outputs": [
    {
     "data": {
      "text/plain": [
       "id                       0\n",
       "gender                   0\n",
       "age                      0\n",
       "hypertension             0\n",
       "heart_disease            0\n",
       "ever_married             0\n",
       "work_type                0\n",
       "Residence_type           0\n",
       "avg_glucose_level        0\n",
       "bmi                   1462\n",
       "smoking_status       13292\n",
       "stroke                   0\n",
       "dtype: int64"
      ]
     },
     "execution_count": 5,
     "metadata": {},
     "output_type": "execute_result"
    }
   ],
   "source": [
    "df.isnull().sum()"
   ]
  },
  {
   "cell_type": "markdown",
   "id": "1667142e",
   "metadata": {},
   "source": [
    "**As we can see that `bmi` have around 1500 null values and `smoking_status` has around 13000 null values.**"
   ]
  },
  {
   "cell_type": "markdown",
   "id": "629be6a3-dcf4-4cc4-aa2e-52a8b44c3e05",
   "metadata": {},
   "source": [
    "Check for the basic information about the datasets"
   ]
  },
  {
   "cell_type": "code",
   "execution_count": 6,
   "id": "249cb957",
   "metadata": {},
   "outputs": [
    {
     "name": "stdout",
     "output_type": "stream",
     "text": [
      "<class 'pandas.core.frame.DataFrame'>\n",
      "RangeIndex: 43400 entries, 0 to 43399\n",
      "Data columns (total 12 columns):\n",
      " #   Column             Non-Null Count  Dtype  \n",
      "---  ------             --------------  -----  \n",
      " 0   id                 43400 non-null  int64  \n",
      " 1   gender             43400 non-null  object \n",
      " 2   age                43400 non-null  float64\n",
      " 3   hypertension       43400 non-null  int64  \n",
      " 4   heart_disease      43400 non-null  int64  \n",
      " 5   ever_married       43400 non-null  object \n",
      " 6   work_type          43400 non-null  object \n",
      " 7   Residence_type     43400 non-null  object \n",
      " 8   avg_glucose_level  43400 non-null  float64\n",
      " 9   bmi                41938 non-null  float64\n",
      " 10  smoking_status     30108 non-null  object \n",
      " 11  stroke             43400 non-null  int64  \n",
      "dtypes: float64(3), int64(4), object(5)\n",
      "memory usage: 4.0+ MB\n"
     ]
    }
   ],
   "source": [
    "df.info()"
   ]
  },
  {
   "cell_type": "code",
   "execution_count": 7,
   "id": "be7a1cbc",
   "metadata": {},
   "outputs": [
    {
     "data": {
      "text/plain": [
       "stroke\n",
       "0    42617\n",
       "1      783\n",
       "Name: count, dtype: int64"
      ]
     },
     "execution_count": 7,
     "metadata": {},
     "output_type": "execute_result"
    }
   ],
   "source": [
    "class_dist = df['stroke'].value_counts()\n",
    "class_dist"
   ]
  },
  {
   "cell_type": "markdown",
   "id": "2bf037e5-93c5-4598-bbce-9128282740e2",
   "metadata": {},
   "source": [
    "**We can see that frequency of not-stroke is 42617 and frequency of stroke is 783 this proves that our data is imabalanced we have to use `Smote` technique to fix this kind of problem**"
   ]
  },
  {
   "cell_type": "code",
   "execution_count": 8,
   "id": "145249d7",
   "metadata": {},
   "outputs": [
    {
     "name": "stdout",
     "output_type": "stream",
     "text": [
      "Imbalance Ratio: 0.02\n"
     ]
    }
   ],
   "source": [
    "imbalance_ratio = class_dist.min() / class_dist.max()\n",
    "print(f'Imbalance Ratio: {imbalance_ratio:.2f}')"
   ]
  },
  {
   "cell_type": "code",
   "execution_count": 9,
   "id": "a67389bd",
   "metadata": {},
   "outputs": [
    {
     "name": "stdout",
     "output_type": "stream",
     "text": [
      "Imbalance Percentage: 98.16%\n"
     ]
    }
   ],
   "source": [
    "imbalance_percentage = (1 - imbalance_ratio) * 100\n",
    "print(f'Imbalance Percentage: {imbalance_percentage:.2f}%')"
   ]
  },
  {
   "cell_type": "code",
   "execution_count": 10,
   "id": "9dc551fc",
   "metadata": {},
   "outputs": [
    {
     "data": {
      "image/png": "[encoded data removed]",
      "text/plain": [
       "<Figure size 800x600 with 1 Axes>"
      ]
     },
     "metadata": {},
     "output_type": "display_data"
    }
   ],
   "source": [
    "#we can see that through visualization\n",
    "# Visualize the class distribution\n",
    "plt.figure(figsize=(8, 6))\n",
    "sns.barplot(x=class_dist.index, y=class_dist.values, palette='husl')\n",
    "plt.xlabel('stroke')\n",
    "plt.ylabel('Number of Records')\n",
    "plt.title('Imbalanced Data')\n",
    "plt.show()"
   ]
  },
  {
   "cell_type": "code",
   "execution_count": 11,
   "id": "60cf8243-4ae2-4f67-b488-e8156d17651c",
   "metadata": {},
   "outputs": [
    {
     "data": {
      "text/html": [
       "<div>\n",
       "<style scoped>\n",
       "    .dataframe tbody tr th:only-of-type {\n",
       "        vertical-align: middle;\n",
       "    }\n",
       "\n",
       "    .dataframe tbody tr th {\n",
       "        vertical-align: top;\n",
       "    }\n",
       "\n",
       "    .dataframe thead th {\n",
       "        text-align: right;\n",
       "    }\n",
       "</style>\n",
       "<table border=\"1\" class=\"dataframe\">\n",
       "  <thead>\n",
       "    <tr style=\"text-align: right;\">\n",
       "      <th></th>\n",
       "      <th>id</th>\n",
       "      <th>gender</th>\n",
       "      <th>age</th>\n",
       "      <th>hypertension</th>\n",
       "      <th>heart_disease</th>\n",
       "      <th>ever_married</th>\n",
       "      <th>work_type</th>\n",
       "      <th>Residence_type</th>\n",
       "      <th>avg_glucose_level</th>\n",
       "      <th>bmi</th>\n",
       "      <th>smoking_status</th>\n",
       "      <th>stroke</th>\n",
       "    </tr>\n",
       "  </thead>\n",
       "  <tbody>\n",
       "    <tr>\n",
       "      <th>0</th>\n",
       "      <td>30669</td>\n",
       "      <td>Male</td>\n",
       "      <td>3.0</td>\n",
       "      <td>0</td>\n",
       "      <td>0</td>\n",
       "      <td>No</td>\n",
       "      <td>children</td>\n",
       "      <td>Rural</td>\n",
       "      <td>95.12</td>\n",
       "      <td>18.0</td>\n",
       "      <td>NaN</td>\n",
       "      <td>0</td>\n",
       "    </tr>\n",
       "    <tr>\n",
       "      <th>1</th>\n",
       "      <td>30468</td>\n",
       "      <td>Male</td>\n",
       "      <td>58.0</td>\n",
       "      <td>1</td>\n",
       "      <td>0</td>\n",
       "      <td>Yes</td>\n",
       "      <td>Private</td>\n",
       "      <td>Urban</td>\n",
       "      <td>87.96</td>\n",
       "      <td>39.2</td>\n",
       "      <td>never smoked</td>\n",
       "      <td>0</td>\n",
       "    </tr>\n",
       "    <tr>\n",
       "      <th>2</th>\n",
       "      <td>16523</td>\n",
       "      <td>Female</td>\n",
       "      <td>8.0</td>\n",
       "      <td>0</td>\n",
       "      <td>0</td>\n",
       "      <td>No</td>\n",
       "      <td>Private</td>\n",
       "      <td>Urban</td>\n",
       "      <td>110.89</td>\n",
       "      <td>17.6</td>\n",
       "      <td>NaN</td>\n",
       "      <td>0</td>\n",
       "    </tr>\n",
       "    <tr>\n",
       "      <th>3</th>\n",
       "      <td>56543</td>\n",
       "      <td>Female</td>\n",
       "      <td>70.0</td>\n",
       "      <td>0</td>\n",
       "      <td>0</td>\n",
       "      <td>Yes</td>\n",
       "      <td>Private</td>\n",
       "      <td>Rural</td>\n",
       "      <td>69.04</td>\n",
       "      <td>35.9</td>\n",
       "      <td>formerly smoked</td>\n",
       "      <td>0</td>\n",
       "    </tr>\n",
       "    <tr>\n",
       "      <th>4</th>\n",
       "      <td>46136</td>\n",
       "      <td>Male</td>\n",
       "      <td>14.0</td>\n",
       "      <td>0</td>\n",
       "      <td>0</td>\n",
       "      <td>No</td>\n",
       "      <td>Never_worked</td>\n",
       "      <td>Rural</td>\n",
       "      <td>161.28</td>\n",
       "      <td>19.1</td>\n",
       "      <td>NaN</td>\n",
       "      <td>0</td>\n",
       "    </tr>\n",
       "  </tbody>\n",
       "</table>\n",
       "</div>"
      ],
      "text/plain": [
       "      id  gender   age  hypertension  heart_disease ever_married  \\\n",
       "0  30669    Male   3.0             0              0           No   \n",
       "1  30468    Male  58.0             1              0          Yes   \n",
       "2  16523  Female   8.0             0              0           No   \n",
       "3  56543  Female  70.0             0              0          Yes   \n",
       "4  46136    Male  14.0             0              0           No   \n",
       "\n",
       "      work_type Residence_type  avg_glucose_level   bmi   smoking_status  \\\n",
       "0      children          Rural              95.12  18.0              NaN   \n",
       "1       Private          Urban              87.96  39.2     never smoked   \n",
       "2       Private          Urban             110.89  17.6              NaN   \n",
       "3       Private          Rural              69.04  35.9  formerly smoked   \n",
       "4  Never_worked          Rural             161.28  19.1              NaN   \n",
       "\n",
       "   stroke  \n",
       "0       0  \n",
       "1       0  \n",
       "2       0  \n",
       "3       0  \n",
       "4       0  "
      ]
     },
     "execution_count": 11,
     "metadata": {},
     "output_type": "execute_result"
    }
   ],
   "source": [
    "df.head()"
   ]
  },
  {
   "cell_type": "code",
   "execution_count": 12,
   "id": "8c78e051-ff50-4454-9c3e-a818de5ecb59",
   "metadata": {},
   "outputs": [
    {
     "data": {
      "text/plain": [
       "id                       0\n",
       "gender                   0\n",
       "age                      0\n",
       "hypertension             0\n",
       "heart_disease            0\n",
       "ever_married             0\n",
       "work_type                0\n",
       "Residence_type           0\n",
       "avg_glucose_level        0\n",
       "bmi                   1462\n",
       "smoking_status       13292\n",
       "stroke                   0\n",
       "dtype: int64"
      ]
     },
     "execution_count": 12,
     "metadata": {},
     "output_type": "execute_result"
    }
   ],
   "source": [
    "#checking missing values\n",
    "df.isnull().sum()"
   ]
  },
  {
   "cell_type": "markdown",
   "id": "b13d7ba6-0c3f-4aab-a44b-09da92253a13",
   "metadata": {},
   "source": [
    "**As we can see that `bmi` have around 1500 null values and `smoking_status` has around 13000 null values. So we will use the Imputation techniques to fix it.**\n",
    "\n",
    "\n",
    "We will use `KNNImputer` this will fill the null value with it's neighbours value"
   ]
  },
  {
   "cell_type": "code",
   "execution_count": 13,
   "id": "82fb7841-be71-4cd1-9662-e06943261df4",
   "metadata": {},
   "outputs": [
    {
     "data": {
      "text/plain": [
       "smoking_status\n",
       "never smoked       16053\n",
       "formerly smoked     7493\n",
       "smokes              6562\n",
       "Name: count, dtype: int64"
      ]
     },
     "execution_count": 13,
     "metadata": {},
     "output_type": "execute_result"
    }
   ],
   "source": [
    "df['smoking_status'].value_counts()"
   ]
  },
  {
   "cell_type": "code",
   "execution_count": 14,
   "id": "c53db528-d9ca-40ab-9ac4-41353c5d1355",
   "metadata": {},
   "outputs": [],
   "source": [
    "smoke_map = {'never smoked':0, 'smokes' : 1, 'formerly smoked': 2 }\n",
    "df['smoking_status'] = df['smoking_status'].map(smoke_map)"
   ]
  },
  {
   "cell_type": "markdown",
   "id": "6353600d-9d21-475d-aad2-999929d2012b",
   "metadata": {},
   "source": [
    "**This Function will take array of columns and apply categorical encoding**"
   ]
  },
  {
   "cell_type": "code",
   "execution_count": 15,
   "id": "d05d59b4-2110-466a-b96e-34185805c7e7",
   "metadata": {},
   "outputs": [],
   "source": [
    "def categorical_encoding(df, columns):\n",
    "    le = LabelEncoder()\n",
    "    for column in columns:\n",
    "        df[column] = le.fit_transform(df[column])\n",
    "    return df"
   ]
  },
  {
   "cell_type": "code",
   "execution_count": 16,
   "id": "1c823f8a-3cf2-4e2a-8813-e37ec50073d5",
   "metadata": {},
   "outputs": [
    {
     "name": "stdout",
     "output_type": "stream",
     "text": [
      "<class 'pandas.core.frame.DataFrame'>\n",
      "RangeIndex: 43400 entries, 0 to 43399\n",
      "Data columns (total 12 columns):\n",
      " #   Column             Non-Null Count  Dtype  \n",
      "---  ------             --------------  -----  \n",
      " 0   id                 43400 non-null  int64  \n",
      " 1   gender             43400 non-null  object \n",
      " 2   age                43400 non-null  float64\n",
      " 3   hypertension       43400 non-null  int64  \n",
      " 4   heart_disease      43400 non-null  int64  \n",
      " 5   ever_married       43400 non-null  object \n",
      " 6   work_type          43400 non-null  object \n",
      " 7   Residence_type     43400 non-null  object \n",
      " 8   avg_glucose_level  43400 non-null  float64\n",
      " 9   bmi                41938 non-null  float64\n",
      " 10  smoking_status     30108 non-null  float64\n",
      " 11  stroke             43400 non-null  int64  \n",
      "dtypes: float64(4), int64(4), object(4)\n",
      "memory usage: 4.0+ MB\n"
     ]
    }
   ],
   "source": [
    "df.info()"
   ]
  },
  {
   "cell_type": "markdown",
   "id": "c85caed0-83f2-4408-80d3-b5806aff5b14",
   "metadata": {},
   "source": [
    "**Find the all categorical variables**"
   ]
  },
  {
   "cell_type": "code",
   "execution_count": 17,
   "id": "9ec862b2-a87f-4d5b-b6ec-485541c341a6",
   "metadata": {},
   "outputs": [],
   "source": [
    "categorical_variables = []\n",
    "for column in df.columns:\n",
    "    if df[column].dtype =='object':\n",
    "        categorical_variables.append(column)"
   ]
  },
  {
   "cell_type": "code",
   "execution_count": 18,
   "id": "17ca3076-8197-4502-bfb3-f79c9b3e6f0d",
   "metadata": {},
   "outputs": [
    {
     "data": {
      "text/plain": [
       "['gender', 'ever_married', 'work_type', 'Residence_type']"
      ]
     },
     "execution_count": 18,
     "metadata": {},
     "output_type": "execute_result"
    }
   ],
   "source": [
    "categorical_variables"
   ]
  },
  {
   "cell_type": "code",
   "execution_count": 19,
   "id": "6d857b3a-eeb8-4481-80eb-7dbf44903aa2",
   "metadata": {},
   "outputs": [],
   "source": [
    "df = categorical_encoding(df, categorical_variables)"
   ]
  },
  {
   "cell_type": "code",
   "execution_count": 20,
   "id": "161ae8e9-b65b-4d6c-a3f1-a2eb431db420",
   "metadata": {},
   "outputs": [
    {
     "data": {
      "text/html": [
       "<div>\n",
       "<style scoped>\n",
       "    .dataframe tbody tr th:only-of-type {\n",
       "        vertical-align: middle;\n",
       "    }\n",
       "\n",
       "    .dataframe tbody tr th {\n",
       "        vertical-align: top;\n",
       "    }\n",
       "\n",
       "    .dataframe thead th {\n",
       "        text-align: right;\n",
       "    }\n",
       "</style>\n",
       "<table border=\"1\" class=\"dataframe\">\n",
       "  <thead>\n",
       "    <tr style=\"text-align: right;\">\n",
       "      <th></th>\n",
       "      <th>id</th>\n",
       "      <th>gender</th>\n",
       "      <th>age</th>\n",
       "      <th>hypertension</th>\n",
       "      <th>heart_disease</th>\n",
       "      <th>ever_married</th>\n",
       "      <th>work_type</th>\n",
       "      <th>Residence_type</th>\n",
       "      <th>avg_glucose_level</th>\n",
       "      <th>bmi</th>\n",
       "      <th>smoking_status</th>\n",
       "      <th>stroke</th>\n",
       "    </tr>\n",
       "  </thead>\n",
       "  <tbody>\n",
       "    <tr>\n",
       "      <th>0</th>\n",
       "      <td>30669</td>\n",
       "      <td>1</td>\n",
       "      <td>3.0</td>\n",
       "      <td>0</td>\n",
       "      <td>0</td>\n",
       "      <td>0</td>\n",
       "      <td>4</td>\n",
       "      <td>0</td>\n",
       "      <td>95.12</td>\n",
       "      <td>18.0</td>\n",
       "      <td>NaN</td>\n",
       "      <td>0</td>\n",
       "    </tr>\n",
       "    <tr>\n",
       "      <th>1</th>\n",
       "      <td>30468</td>\n",
       "      <td>1</td>\n",
       "      <td>58.0</td>\n",
       "      <td>1</td>\n",
       "      <td>0</td>\n",
       "      <td>1</td>\n",
       "      <td>2</td>\n",
       "      <td>1</td>\n",
       "      <td>87.96</td>\n",
       "      <td>39.2</td>\n",
       "      <td>0.0</td>\n",
       "      <td>0</td>\n",
       "    </tr>\n",
       "    <tr>\n",
       "      <th>2</th>\n",
       "      <td>16523</td>\n",
       "      <td>0</td>\n",
       "      <td>8.0</td>\n",
       "      <td>0</td>\n",
       "      <td>0</td>\n",
       "      <td>0</td>\n",
       "      <td>2</td>\n",
       "      <td>1</td>\n",
       "      <td>110.89</td>\n",
       "      <td>17.6</td>\n",
       "      <td>NaN</td>\n",
       "      <td>0</td>\n",
       "    </tr>\n",
       "    <tr>\n",
       "      <th>3</th>\n",
       "      <td>56543</td>\n",
       "      <td>0</td>\n",
       "      <td>70.0</td>\n",
       "      <td>0</td>\n",
       "      <td>0</td>\n",
       "      <td>1</td>\n",
       "      <td>2</td>\n",
       "      <td>0</td>\n",
       "      <td>69.04</td>\n",
       "      <td>35.9</td>\n",
       "      <td>2.0</td>\n",
       "      <td>0</td>\n",
       "    </tr>\n",
       "    <tr>\n",
       "      <th>4</th>\n",
       "      <td>46136</td>\n",
       "      <td>1</td>\n",
       "      <td>14.0</td>\n",
       "      <td>0</td>\n",
       "      <td>0</td>\n",
       "      <td>0</td>\n",
       "      <td>1</td>\n",
       "      <td>0</td>\n",
       "      <td>161.28</td>\n",
       "      <td>19.1</td>\n",
       "      <td>NaN</td>\n",
       "      <td>0</td>\n",
       "    </tr>\n",
       "  </tbody>\n",
       "</table>\n",
       "</div>"
      ],
      "text/plain": [
       "      id  gender   age  hypertension  heart_disease  ever_married  work_type  \\\n",
       "0  30669       1   3.0             0              0             0          4   \n",
       "1  30468       1  58.0             1              0             1          2   \n",
       "2  16523       0   8.0             0              0             0          2   \n",
       "3  56543       0  70.0             0              0             1          2   \n",
       "4  46136       1  14.0             0              0             0          1   \n",
       "\n",
       "   Residence_type  avg_glucose_level   bmi  smoking_status  stroke  \n",
       "0               0              95.12  18.0             NaN       0  \n",
       "1               1              87.96  39.2             0.0       0  \n",
       "2               1             110.89  17.6             NaN       0  \n",
       "3               0              69.04  35.9             2.0       0  \n",
       "4               0             161.28  19.1             NaN       0  "
      ]
     },
     "execution_count": 20,
     "metadata": {},
     "output_type": "execute_result"
    }
   ],
   "source": [
    "df.head()"
   ]
  },
  {
   "cell_type": "markdown",
   "id": "54697e06-e108-482a-a0b7-a2829a179dfc",
   "metadata": {},
   "source": [
    "We still have null value we will use get rid of null values after splitting the data into train and test. Because of data leakage problem"
   ]
  },
  {
   "cell_type": "markdown",
   "id": "996dda22-37ab-4fd4-b3b4-ccb3ca378164",
   "metadata": {},
   "source": [
    "### Feature Selection"
   ]
  },
  {
   "cell_type": "code",
   "execution_count": 21,
   "id": "380072ad-8500-4d4b-90e6-c2eff5c80ca1",
   "metadata": {},
   "outputs": [
    {
     "data": {
      "text/plain": [
       "Index(['id', 'gender', 'age', 'hypertension', 'heart_disease', 'ever_married',\n",
       "       'work_type', 'Residence_type', 'avg_glucose_level', 'bmi',\n",
       "       'smoking_status', 'stroke'],\n",
       "      dtype='object')"
      ]
     },
     "execution_count": 21,
     "metadata": {},
     "output_type": "execute_result"
    }
   ],
   "source": [
    "df.columns"
   ]
  },
  {
   "cell_type": "markdown",
   "id": "c4d8bb15-af24-4ec5-aad6-5feb55582d63",
   "metadata": {},
   "source": [
    "**Id, ever_married  is not relatable if someone had stroke or not. So we will drop that columns**"
   ]
  },
  {
   "cell_type": "code",
   "execution_count": 22,
   "id": "61ffaa74-7d09-4425-b447-827ea43e5d80",
   "metadata": {},
   "outputs": [],
   "source": [
    "df.drop(columns= ['id', 'ever_married'], inplace=True)"
   ]
  },
  {
   "cell_type": "code",
   "execution_count": 23,
   "id": "745ef67a-9d43-4a5d-b8d4-0d928556e2ab",
   "metadata": {},
   "outputs": [
    {
     "data": {
      "text/plain": [
       "Index(['gender', 'age', 'hypertension', 'heart_disease', 'work_type',\n",
       "       'Residence_type', 'avg_glucose_level', 'bmi', 'smoking_status',\n",
       "       'stroke'],\n",
       "      dtype='object')"
      ]
     },
     "execution_count": 23,
     "metadata": {},
     "output_type": "execute_result"
    }
   ],
   "source": [
    "df.columns"
   ]
  },
  {
   "cell_type": "markdown",
   "id": "8c90754b-064f-4278-9e87-99d8b0b22c18",
   "metadata": {},
   "source": [
    "### Handiling Null values"
   ]
  },
  {
   "cell_type": "markdown",
   "id": "72410288-3385-4845-a9ff-8b9cf38e8feb",
   "metadata": {},
   "source": [
    "#### Dataset have some missing values so we have to handle that,we have different strategies to handle missing values like \n",
    "- mean,median,mode imputation\n",
    "- forward fill or backward fill\n",
    "- interpolation\n",
    "- K-NN imputation \n",
    "- Advanced Techniques-> Use machine learning models, such as decision trees or random forests, to predict missing values."
   ]
  },
  {
   "cell_type": "code",
   "execution_count": 24,
   "id": "e92af62b-909e-4df8-a398-f8018e518b25",
   "metadata": {},
   "outputs": [],
   "source": [
    "# we use KNN imputation technique to handle missing values\n",
    "imputer = KNNImputer(missing_values=np.nan)\n",
    "col_for_imput = ['bmi', 'smoking_status']\n",
    "df[col_for_imput] = imputer.fit_transform(df[col_for_imput])"
   ]
  },
  {
   "cell_type": "code",
   "execution_count": 28,
   "id": "29d22dab-1824-41cd-b118-151f63de5d27",
   "metadata": {},
   "outputs": [
    {
     "data": {
      "text/plain": [
       "gender               0\n",
       "age                  0\n",
       "hypertension         0\n",
       "heart_disease        0\n",
       "work_type            0\n",
       "Residence_type       0\n",
       "avg_glucose_level    0\n",
       "bmi                  0\n",
       "smoking_status       0\n",
       "stroke               0\n",
       "dtype: int64"
      ]
     },
     "execution_count": 28,
     "metadata": {},
     "output_type": "execute_result"
    }
   ],
   "source": [
    "df.isnull().sum()"
   ]
  },
  {
   "cell_type": "markdown",
   "id": "757af677-4d74-47b6-997d-2ea44540c0c8",
   "metadata": {},
   "source": [
    "### Create Dependent and Independent Variable"
   ]
  },
  {
   "cell_type": "code",
   "execution_count": 25,
   "id": "e36d0ad4",
   "metadata": {},
   "outputs": [],
   "source": [
    "X = df.drop('stroke',axis=1)\n",
    "y = df['stroke']"
   ]
  },
  {
   "cell_type": "markdown",
   "id": "7bb3c1a1-4f78-4abe-8a52-46786c8d4e37",
   "metadata": {},
   "source": [
    "### Split the data into train and test"
   ]
  },
  {
   "cell_type": "code",
   "execution_count": 26,
   "id": "e9b07d4a",
   "metadata": {},
   "outputs": [],
   "source": [
    "X_train,X_test,y_train,y_test = train_test_split(X,y,test_size=0.30,random_state=1)"
   ]
  },
  {
   "cell_type": "markdown",
   "id": "2dd68b6a-3b80-4f96-8146-4e4770822848",
   "metadata": {},
   "source": [
    "### Feature scaling"
   ]
  },
  {
   "cell_type": "code",
   "execution_count": 29,
   "id": "62ffdf36-9e05-4923-bf7f-48715077154b",
   "metadata": {},
   "outputs": [],
   "source": [
    "scaler = StandardScaler()\n",
    "X_train_scaled = scaler.fit_transform(X_train)\n",
    "X_test_scaled = scaler.fit_transform(X_test)"
   ]
  },
  {
   "cell_type": "code",
   "execution_count": 30,
   "id": "0ef8097c-a083-4282-ab73-a2288b7c1e38",
   "metadata": {},
   "outputs": [
    {
     "data": {
      "text/plain": [
       "array([[-0.82966408, -0.14395042, -0.32249752, ..., -0.02645949,\n",
       "        -0.92201532, -0.95521207],\n",
       "       [-0.82966408, -0.71915274, -0.32249752, ..., -1.11522062,\n",
       "        -0.38895597, -0.95521207],\n",
       "       [-0.82966408, -0.45367475, -0.32249752, ..., -0.91722179,\n",
       "        -0.66198637, -0.13152766],\n",
       "       ...,\n",
       "       [-0.82966408,  0.74097623, -0.32249752, ..., -0.53005508,\n",
       "        -0.81800374, -0.95521207],\n",
       "       [-0.82966408, -1.84831915, -0.32249752, ..., -0.56049856,\n",
       "        -0.93501677, -0.13152766],\n",
       "       [-0.82966408,  0.91796156, -0.32249752, ..., -0.29347903,\n",
       "         0.05309325, -0.95521207]])"
      ]
     },
     "execution_count": 30,
     "metadata": {},
     "output_type": "execute_result"
    }
   ],
   "source": [
    "X_train_scaled"
   ]
  },
  {
   "cell_type": "code",
   "execution_count": 31,
   "id": "e08f04e6-0d33-46d6-8712-40d8a0f25262",
   "metadata": {},
   "outputs": [
    {
     "data": {
      "text/plain": [
       "array([[ 1.19734999, -0.05083611,  3.13991229, ..., -0.69053301,\n",
       "         0.05910159,  1.79948173],\n",
       "       [-0.83359019,  0.08352319, -0.31848023, ...,  0.06468606,\n",
       "         2.39461982, -0.96499893],\n",
       "       [ 1.19734999, -0.94656473, -0.31848023, ...,  1.25201977,\n",
       "        -0.62857878, -0.96499893],\n",
       "       ...,\n",
       "       [ 1.19734999, -1.66314763, -0.31848023, ..., -0.42932422,\n",
       "        -1.45898526, -0.4121028 ],\n",
       "       [ 1.19734999, -1.34964261, -0.31848023, ...,  0.07161467,\n",
       "        -1.12163263, -0.13565473],\n",
       "       [-0.83359019, -0.14040897, -0.31848023, ...,  1.76358253,\n",
       "         0.77273216, -0.96499893]])"
      ]
     },
     "execution_count": 31,
     "metadata": {},
     "output_type": "execute_result"
    }
   ],
   "source": [
    "X_test_scaled"
   ]
  },
  {
   "cell_type": "markdown",
   "id": "89e23bf6-89b7-4052-a893-02e06a7b20a1",
   "metadata": {},
   "source": [
    "### Making the Model"
   ]
  },
  {
   "cell_type": "code",
   "execution_count": 39,
   "id": "5132c09d",
   "metadata": {},
   "outputs": [],
   "source": [
    "#training knn model on training set\n",
    "knn = KNeighborsClassifier()\n",
    "lr = LogisticRegression()\n",
    "dt = DecisionTreeClassifier()\n",
    "rf = RandomForestClassifier()\n",
    "\n",
    "classifier = [knn,lr,dt,rf]\n",
    "acc = {}\n",
    "for model in classifier:\n",
    "    model.fit(X_train,y_train)\n",
    "    y_pred = model.predict(X_test)\n",
    "    acc[model] = accuracy_score(y_test,y_pred)\n",
    "    "
   ]
  },
  {
   "cell_type": "code",
   "execution_count": 40,
   "id": "30fdc7f3-73f2-44da-b0f5-4818cfd4332a",
   "metadata": {},
   "outputs": [
    {
     "data": {
      "text/plain": [
       "{KNeighborsClassifier(): 0.981874039938556,\n",
       " LogisticRegression(): 0.9824116743471583,\n",
       " DecisionTreeClassifier(): 0.9619815668202765,\n",
       " RandomForestClassifier(): 0.9821812596006144}"
      ]
     },
     "execution_count": 40,
     "metadata": {},
     "output_type": "execute_result"
    }
   ],
   "source": [
    "acc"
   ]
  },
  {
   "cell_type": "markdown",
   "id": "2f77e0d0",
   "metadata": {},
   "source": [
    "Accuracy for all the models is high,The models accurately predicts the 0 but not 1.\n",
    "precision is close to zero in all the cases,which means model failed \n",
    "predict the cases where chances for cerebral stroke was actually present\n",
    "so it give wrong output"
   ]
  },
  {
   "cell_type": "markdown",
   "id": "a3574cb1",
   "metadata": {},
   "source": [
    "### Oversampling"
   ]
  },
  {
   "cell_type": "markdown",
   "id": "1db70c65",
   "metadata": {},
   "source": [
    "SMOTE  (Synthetic Minority Over-sampling Technique) technique can be used to reduce the imbalance or \n",
    "to make class distribution even .SMOTE helps increase the size of the minority class, making it more balanced with the majority class."
   ]
  },
  {
   "cell_type": "code",
   "execution_count": 42,
   "id": "4fd3a850",
   "metadata": {},
   "outputs": [],
   "source": [
    "from imblearn.over_sampling import SMOTE\n",
    "\n",
    "os = SMOTE(random_state=1)\n",
    "X_os,y_os = os.fit_resample(X,y)\n",
    "\n",
    "X_train,X_test,y_train,y_test = train_test_split(X_os,y_os,test_size=0.3,random_state=1)"
   ]
  },
  {
   "cell_type": "markdown",
   "id": "fc7ba91e",
   "metadata": {},
   "source": [
    "Model Building and Evaluation"
   ]
  },
  {
   "cell_type": "code",
   "execution_count": 43,
   "id": "8fe70dce",
   "metadata": {},
   "outputs": [],
   "source": [
    "knn1 = KNeighborsClassifier()\n",
    "lr1 = LogisticRegression()\n",
    "dt1 = DecisionTreeClassifier()\n",
    "rf1 = RandomForestClassifier()\n",
    "\n",
    "classifier = [knn1,lr1,dt1,rf1]\n",
    "acc_smote ={}\n",
    "for model in classifier:\n",
    "    model.fit(X_train,y_train)\n",
    "    y_pred = model.predict(X_test)\n",
    "    \n",
    "    acc_smote[model] = accuracy_score(y_test,y_pred)"
   ]
  },
  {
   "cell_type": "code",
   "execution_count": 44,
   "id": "f7fe7737-96ee-4f8a-bc7f-870b0f12783d",
   "metadata": {},
   "outputs": [
    {
     "data": {
      "text/plain": [
       "{KNeighborsClassifier(): 0.914903601736342,\n",
       " LogisticRegression(): 0.7983262289312112,\n",
       " DecisionTreeClassifier(): 0.9698877634820695,\n",
       " RandomForestClassifier(): 0.9803292792616636}"
      ]
     },
     "execution_count": 44,
     "metadata": {},
     "output_type": "execute_result"
    }
   ],
   "source": [
    "acc_smote"
   ]
  },
  {
   "cell_type": "markdown",
   "id": "932b37e8",
   "metadata": {},
   "source": [
    "After applying SMOTE technique, the precision increased. For KNN it is 0.82, for Decision Tree it is 0.98 and RandomForest it is 1.0. So oversampling resulted in a better model\n",
    "that is capable of identifying the cases positive for stroke."
   ]
  },
  {
   "cell_type": "markdown",
   "id": "0a404517",
   "metadata": {},
   "source": [
    "### UnderSampling"
   ]
  },
  {
   "cell_type": "markdown",
   "id": "fa0a7dca",
   "metadata": {},
   "source": [
    "In this method to create a more balanced class distribution\n",
    "we randomly delete the rows of the majority class.\n",
    "the ENN (Edited Nearest Neighbors) technique is applied\n",
    "to remove potentially misclassified or noisy samples.\n",
    "Here we are using RandomUnderSampler class for this purpose."
   ]
  },
  {
   "cell_type": "code",
   "execution_count": 45,
   "id": "d2276333",
   "metadata": {},
   "outputs": [],
   "source": [
    "from imblearn.under_sampling import RandomUnderSampler\n",
    "\n",
    "us = RandomUnderSampler(random_state=1)\n",
    "X_us,y_us = us.fit_resample(X,y)\n",
    "\n",
    "X_train,X_test,y_train,y_test = train_test_split(X_us,y_us,test_size=0.3,random_state=1)"
   ]
  },
  {
   "cell_type": "markdown",
   "id": "2847f7a9",
   "metadata": {},
   "source": [
    "#### Model Building and Evaluation"
   ]
  },
  {
   "cell_type": "code",
   "execution_count": 46,
   "id": "97f1a989",
   "metadata": {},
   "outputs": [],
   "source": [
    "knn2 = KNeighborsClassifier()\n",
    "lr2 = LogisticRegression()\n",
    "dt2 = DecisionTreeClassifier()\n",
    "rf2 = RandomForestClassifier()\n",
    "\n",
    "classifier = [knn2,lr2,dt2,rf2]\n",
    "acc_und = {}\n",
    "for model in classifier:\n",
    "    model.fit(X_train,y_train)\n",
    "    y_pred = model.predict(X_test)\n",
    "    acc_und[model] = accuracy_score(y_test,y_pred)"
   ]
  },
  {
   "cell_type": "code",
   "execution_count": 47,
   "id": "84044899-8f8f-4c68-a921-f778f483fd3e",
   "metadata": {},
   "outputs": [
    {
     "data": {
      "text/plain": [
       "{KNeighborsClassifier(): 0.7382978723404255,\n",
       " LogisticRegression(): 0.774468085106383,\n",
       " DecisionTreeClassifier(): 0.6957446808510638,\n",
       " RandomForestClassifier(): 0.7425531914893617}"
      ]
     },
     "execution_count": 47,
     "metadata": {},
     "output_type": "execute_result"
    }
   ],
   "source": [
    "acc_und"
   ]
  },
  {
   "cell_type": "markdown",
   "id": "553181e7",
   "metadata": {},
   "source": [
    "The precision is less than before but better than the one\n",
    "without resampling.The undersampling results in loss of data,\n",
    "so it is not recommended in this case."
   ]
  },
  {
   "cell_type": "code",
   "execution_count": null,
   "id": "06a94e3b",
   "metadata": {},
   "outputs": [],
   "source": []
  },
  {
   "cell_type": "markdown",
   "id": "ab31ec2e",
   "metadata": {},
   "source": [
    "#### Combining Oversampling and Undersampling"
   ]
  },
  {
   "cell_type": "markdown",
   "id": "6808a9cf",
   "metadata": {},
   "source": [
    "SMOTEEN combines SMOTE and Edited Nearest Neighbours(ENN).\n",
    "SMOTE-ENN can improve the balance of the dataset while potentially\n",
    "enhancing the quality of the data.\n",
    "SMOTEEN performs upsampling and downsampling at the same time."
   ]
  },
  {
   "cell_type": "code",
   "execution_count": 48,
   "id": "78407f21",
   "metadata": {},
   "outputs": [],
   "source": [
    "from imblearn.combine import SMOTEENN\n",
    "\n",
    "sample = SMOTEENN()\n",
    "X_over,y_over = sample.fit_resample(X,y)\n",
    "\n",
    "X_train,X_test,y_train,y_test = train_test_split(X_over,y_over,test_size=0.3,random_state=1)"
   ]
  },
  {
   "cell_type": "markdown",
   "id": "be88b40a",
   "metadata": {},
   "source": [
    "### Model Building and Evaluation"
   ]
  },
  {
   "cell_type": "code",
   "execution_count": 51,
   "id": "0f8a9c5d",
   "metadata": {},
   "outputs": [],
   "source": [
    "knn3 = KNeighborsClassifier()\n",
    "lr3 = LogisticRegression()\n",
    "dt3 = DecisionTreeClassifier()\n",
    "rf3 = RandomForestClassifier()\n",
    "acc_smoten = {}\n",
    "classifier = [knn3,lr3,dt3,rf3]\n",
    "\n",
    "for model in classifier:\n",
    "    model.fit(X_train,y_train)\n",
    "    y_pred = model.predict(X_test)\n",
    "    acc_smoten[model] = accuracy_score(y_test,y_pred)"
   ]
  },
  {
   "cell_type": "code",
   "execution_count": 52,
   "id": "314fcf58",
   "metadata": {},
   "outputs": [
    {
     "data": {
      "text/plain": [
       "{KNeighborsClassifier(): 0.9711994481331379,\n",
       " LogisticRegression(): 0.83547469173062,\n",
       " DecisionTreeClassifier(): 0.9716305941191687,\n",
       " RandomForestClassifier(): 0.9816331809950849}"
      ]
     },
     "execution_count": 52,
     "metadata": {},
     "output_type": "execute_result"
    }
   ],
   "source": [
    "acc_smoten"
   ]
  },
  {
   "cell_type": "code",
   "execution_count": null,
   "id": "2572ccaf",
   "metadata": {},
   "outputs": [],
   "source": []
  },
  {
   "cell_type": "code",
   "execution_count": null,
   "id": "ddb8b716",
   "metadata": {},
   "outputs": [],
   "source": []
  }
 ],
 "metadata": {
  "kernelspec": {
   "display_name": "Python 3 (ipykernel)",
   "language": "python",
   "name": "python3"
  },
  "language_info": {
   "codemirror_mode": {
    "name": "ipython",
    "version": 3
   },
   "file_extension": ".py",
   "mimetype": "text/x-python",
   "name": "python",
   "nbconvert_exporter": "python",
   "pygments_lexer": "ipython3",
   "version": "3.11.5"
  }
 },
 "nbformat": 4,
 "nbformat_minor": 5
}
