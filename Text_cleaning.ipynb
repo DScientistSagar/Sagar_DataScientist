{
  "nbformat": 4,
  "nbformat_minor": 0,
  "metadata": {
    "colab": {
      "provenance": [],
      "authorship_tag": "ABX9TyMFH/59eQikDMDtZChifAFp",
      "include_colab_link": true
    },
    "kernelspec": {
      "name": "python3",
      "display_name": "Python 3"
    },
    "language_info": {
      "name": "python"
    }
  },
  "cells": [
    {
      "cell_type": "markdown",
      "metadata": {
        "id": "view-in-github",
        "colab_type": "text"
      },
      "source": [
        "<a href=\"https://colab.research.google.com/github/DScientistSagar/Sagar_DataScientist/blob/main/Text_cleaning.ipynb\" target=\"_parent\"><img src=\"https://colab.research.google.com/assets/colab-badge.svg\" alt=\"Open In Colab\"/></a>"
      ]
    },
    {
      "cell_type": "code",
      "execution_count": null,
      "metadata": {
        "id": "Ttn5748UvwS0"
      },
      "outputs": [],
      "source": [
        "#Remove Hypertext task\n",
        "\n",
        "import re\n",
        "def remove_html_tags(text):\n",
        "    pattern = re.compile('<.*?>')\n",
        "    return pattern.sub(r'', text)\n",
        "\n"
      ]
    },
    {
      "cell_type": "code",
      "source": [
        "remove_html_tags(text)"
      ],
      "metadata": {
        "id": "vlbJFkKvvxRL"
      },
      "execution_count": null,
      "outputs": []
    },
    {
      "cell_type": "code",
      "source": [
        "data_train['text']= data_train['text'].apply(remove_html_tags)\n",
        "data_test['text']= data_test['text'].apply(remove_html_tags)"
      ],
      "metadata": {
        "id": "GoEMV3iRv2fT"
      },
      "execution_count": null,
      "outputs": []
    },
    {
      "cell_type": "code",
      "source": [
        "data_train['text'][6]"
      ],
      "metadata": {
        "id": "o5ZI1yFVv6P9"
      },
      "execution_count": null,
      "outputs": []
    },
    {
      "cell_type": "code",
      "source": [
        "data_test['text'][6]"
      ],
      "metadata": {
        "id": "NxCyyYgqv65s"
      },
      "execution_count": null,
      "outputs": []
    },
    {
      "cell_type": "code",
      "source": [],
      "metadata": {
        "id": "0FinWJjYv9Jz"
      },
      "execution_count": null,
      "outputs": []
    },
    {
      "cell_type": "code",
      "source": [
        "# Remove url\n",
        "def remove_url(text):\n",
        "    pattern = re.compile(r'https?://\\S+|www\\.\\S+')\n",
        "    return pattern.sub(r'', text)"
      ],
      "metadata": {
        "id": "HuQC17LrMOlO"
      },
      "execution_count": null,
      "outputs": []
    },
    {
      "cell_type": "code",
      "source": [
        "text='On plus side LOOK AT THE SKY LAST NIGHT IT WAS ABLAZE http://t.co/qqsmshaJ3N'"
      ],
      "metadata": {
        "id": "Na18ibS_v_IK"
      },
      "execution_count": null,
      "outputs": []
    },
    {
      "cell_type": "code",
      "source": [
        "remove_url(text)"
      ],
      "metadata": {
        "id": "YmAT0dFNwBon"
      },
      "execution_count": null,
      "outputs": []
    },
    {
      "cell_type": "code",
      "source": [
        "data_train['text']= data_train['text'].apply(remove_url)\n",
        "data_test['text']= data_test['text'].apply(remove_url)"
      ],
      "metadata": {
        "id": "IOorJKXKwGtS"
      },
      "execution_count": null,
      "outputs": []
    },
    {
      "cell_type": "code",
      "source": [
        "# Remove punctuation"
      ],
      "metadata": {
        "id": "Twn7NOmMwKqY"
      },
      "execution_count": null,
      "outputs": []
    },
    {
      "cell_type": "code",
      "source": [
        "import string\n",
        "string.punctuation"
      ],
      "metadata": {
        "id": "1m47h_pCwLP6"
      },
      "execution_count": null,
      "outputs": []
    },
    {
      "cell_type": "code",
      "source": [
        "exclude=string.punctuation"
      ],
      "metadata": {
        "id": "PhgXcHMuwQ9u"
      },
      "execution_count": null,
      "outputs": []
    },
    {
      "cell_type": "code",
      "source": [
        "def remove_punc(text):\n",
        "    for char in exclude:\n",
        "        text = text.replace(char,'')\n",
        "    return text\n"
      ],
      "metadata": {
        "id": "CVB4xdUjwRqW"
      },
      "execution_count": null,
      "outputs": []
    },
    {
      "cell_type": "code",
      "source": [
        "cleaned_text = remove_punc(text)\n",
        "print(cleaned_text)"
      ],
      "metadata": {
        "id": "vjZAvoY0wZ6E"
      },
      "execution_count": null,
      "outputs": []
    },
    {
      "cell_type": "code",
      "source": [
        "data_train['text']= data_train['text'].apply(remove_punc)\n",
        "print(data_train)"
      ],
      "metadata": {
        "id": "214DHWBGwePs"
      },
      "execution_count": null,
      "outputs": []
    },
    {
      "cell_type": "code",
      "source": [
        "data_test['text']= data_test['text'].apply(remove_punc)\n",
        "print(data_test)"
      ],
      "metadata": {
        "id": "nflJJdfYwlGs"
      },
      "execution_count": null,
      "outputs": []
    }
  ]
}